{
 "cells": [
  {
   "cell_type": "markdown",
   "id": "spectacular-oxford",
   "metadata": {},
   "source": [
    "# Writing data to and reading data from a Database using Python"
   ]
  },
  {
   "cell_type": "markdown",
   "id": "14d7fbf5",
   "metadata": {},
   "source": [
    "## Libraries and settings"
   ]
  },
  {
   "cell_type": "code",
   "execution_count": 2,
   "id": "6b7c9af0",
   "metadata": {},
   "outputs": [
    {
     "name": "stdout",
     "output_type": "stream",
     "text": [
      "/workspaces/data_analytics/Week_02_KK\n"
     ]
    }
   ],
   "source": [
    "# Libraries\n",
    "import os\n",
    "import sqlite3\n",
    "import fnmatch\n",
    "import numpy as np\n",
    "import pandas as pd\n",
    "import matplotlib.pyplot as plt\n",
    "import json\n",
    "\n",
    "# Ignore warnings\n",
    "import warnings\n",
    "warnings.filterwarnings(\"ignore\")\n",
    "\n",
    "# Function to close a sqlite db-connection\n",
    "def check_conn(conn):\n",
    "     try:\n",
    "        conn.cursor()\n",
    "        return True\n",
    "     except Exception as ex:\n",
    "        return False\n",
    "\n",
    "# Get current working directory\n",
    "print(os.getcwd())"
   ]
  },
  {
   "cell_type": "markdown",
   "id": "83bdef21",
   "metadata": {},
   "source": [
    "### 4f) Create a data base for the supermarket data"
   ]
  },
  {
   "cell_type": "code",
   "execution_count": 3,
   "id": "61be4b34",
   "metadata": {},
   "outputs": [
    {
     "data": {
      "text/plain": [
       "3392"
      ]
     },
     "execution_count": 3,
     "metadata": {},
     "output_type": "execute_result"
    }
   ],
   "source": [
    "# Create data base\n",
    "conn = sqlite3.connect('supermarkets_database.db')\n",
    "cursor = conn.cursor()\n",
    "\n",
    "# Load the JSON data from file\n",
    "with open('supermarkets.json') as json_file:\n",
    "    data = json.load(json_file)\n",
    "\n",
    "# Use json_normalize to flatten the JSON and create a DataFrame\n",
    "df = pd.json_normalize(data)\n",
    "\n",
    "# Select columns\n",
    "df = df[[\"id\", \"lat\", \"lon\", \"tags.brand\", \"tags.shop\",\n",
    "         \"tags.addr:city\", \"tags.addr:street\",\n",
    "         \"tags.addr:housenumber\", \"tags.addr:postcode\"]]\n",
    "\n",
    "# Rename columns\n",
    "df = df.rename(columns={\"tags.brand\": \"brand\",\n",
    "                        \"tags.shop\": \"shop\",\n",
    "                        \"tags.addr:city\": \"city\",\n",
    "                        \"tags.addr:street\": \"street\",\n",
    "                        \"tags.addr:housenumber\": \"housenumber\",\n",
    "                        \"tags.addr:postcode\": \"postcode\"})\n",
    "\n",
    "# Create db table\n",
    "cursor.execute('''CREATE TABLE IF NOT EXISTS supermarkets_table (id INT(20),\n",
    "                                                                 lat DECIMAL(8,2),\n",
    "                                                                 lon DECIMAL(8,2),\n",
    "                                                                 brand VARCHAR(50),\n",
    "                                                                 shop VARCHAR(50),\n",
    "                                                                 city VARCHAR(100),\n",
    "                                                                 street VARCHAR(200),\n",
    "                                                                 housenumber VARCHAR(50),\n",
    "                                                                 postcode INT(4))''')\n",
    "\n",
    "# Confirm changes to the table\n",
    "conn.commit()\n",
    "\n",
    "# Write data to table\n",
    "df.to_sql(name='supermarkets_table',\n",
    "          con=conn,\n",
    "          index=False,\n",
    "          if_exists='replace')\n"
   ]
  },
  {
   "cell_type": "markdown",
   "id": "0b880d4d",
   "metadata": {},
   "source": [
    "### 4g) Write an SQL -query to filter all supermarkets in the city of Winterthur"
   ]
  },
  {
   "cell_type": "code",
   "execution_count": 4,
   "id": "240f7517",
   "metadata": {},
   "outputs": [
    {
     "name": "stdout",
     "output_type": "stream",
     "text": [
      "Tables in supermarkets_database.db:\n",
      " [('supermarkets_table',)]\n",
      "\n",
      "Colnames in supermarkets_table:\n",
      " ['id', 'lat', 'lon', 'brand', 'shop', 'city', 'street', 'housenumber', 'postcode']\n",
      "\n",
      "SQL query\n"
     ]
    },
    {
     "data": {
      "text/html": [
       "<div>\n",
       "<style scoped>\n",
       "    .dataframe tbody tr th:only-of-type {\n",
       "        vertical-align: middle;\n",
       "    }\n",
       "\n",
       "    .dataframe tbody tr th {\n",
       "        vertical-align: top;\n",
       "    }\n",
       "\n",
       "    .dataframe thead th {\n",
       "        text-align: right;\n",
       "    }\n",
       "</style>\n",
       "<table border=\"1\" class=\"dataframe\">\n",
       "  <thead>\n",
       "    <tr style=\"text-align: right;\">\n",
       "      <th></th>\n",
       "      <th>id</th>\n",
       "      <th>lat</th>\n",
       "      <th>lon</th>\n",
       "      <th>brand</th>\n",
       "      <th>shop</th>\n",
       "      <th>city</th>\n",
       "      <th>street</th>\n",
       "      <th>housenumber</th>\n",
       "      <th>postcode</th>\n",
       "    </tr>\n",
       "  </thead>\n",
       "  <tbody>\n",
       "    <tr>\n",
       "      <th>0</th>\n",
       "      <td>70656488</td>\n",
       "      <td>47.491874</td>\n",
       "      <td>8.706448</td>\n",
       "      <td>Migros</td>\n",
       "      <td>supermarket</td>\n",
       "      <td>Winterthur</td>\n",
       "      <td>Zürcherstrasse</td>\n",
       "      <td>102</td>\n",
       "      <td>8406</td>\n",
       "    </tr>\n",
       "    <tr>\n",
       "      <th>1</th>\n",
       "      <td>246533376</td>\n",
       "      <td>47.518953</td>\n",
       "      <td>8.720071</td>\n",
       "      <td>Migros</td>\n",
       "      <td>supermarket</td>\n",
       "      <td>Winterthur</td>\n",
       "      <td>Schaffhauserstrasse</td>\n",
       "      <td>152</td>\n",
       "      <td>8400</td>\n",
       "    </tr>\n",
       "    <tr>\n",
       "      <th>2</th>\n",
       "      <td>548919417</td>\n",
       "      <td>47.506863</td>\n",
       "      <td>8.712208</td>\n",
       "      <td>Migros</td>\n",
       "      <td>supermarket</td>\n",
       "      <td>Winterthur</td>\n",
       "      <td>Wülflingerstrasse</td>\n",
       "      <td>71</td>\n",
       "      <td>8400</td>\n",
       "    </tr>\n",
       "    <tr>\n",
       "      <th>3</th>\n",
       "      <td>677194765</td>\n",
       "      <td>47.503208</td>\n",
       "      <td>8.752131</td>\n",
       "      <td>None</td>\n",
       "      <td>supermarket</td>\n",
       "      <td>Winterthur</td>\n",
       "      <td>Frauenfelderstrasse</td>\n",
       "      <td>69</td>\n",
       "      <td>8404</td>\n",
       "    </tr>\n",
       "    <tr>\n",
       "      <th>4</th>\n",
       "      <td>706203439</td>\n",
       "      <td>47.500848</td>\n",
       "      <td>8.725938</td>\n",
       "      <td>None</td>\n",
       "      <td>supermarket</td>\n",
       "      <td>Winterthur</td>\n",
       "      <td>Bankstrasse</td>\n",
       "      <td>8/12</td>\n",
       "      <td>8400</td>\n",
       "    </tr>\n",
       "  </tbody>\n",
       "</table>\n",
       "</div>"
      ],
      "text/plain": [
       "          id        lat       lon   brand         shop        city  \\\n",
       "0   70656488  47.491874  8.706448  Migros  supermarket  Winterthur   \n",
       "1  246533376  47.518953  8.720071  Migros  supermarket  Winterthur   \n",
       "2  548919417  47.506863  8.712208  Migros  supermarket  Winterthur   \n",
       "3  677194765  47.503208  8.752131    None  supermarket  Winterthur   \n",
       "4  706203439  47.500848  8.725938    None  supermarket  Winterthur   \n",
       "\n",
       "                street housenumber postcode  \n",
       "0       Zürcherstrasse         102     8406  \n",
       "1  Schaffhauserstrasse         152     8400  \n",
       "2    Wülflingerstrasse          71     8400  \n",
       "3  Frauenfelderstrasse          69     8404  \n",
       "4          Bankstrasse        8/12     8400  "
      ]
     },
     "execution_count": 4,
     "metadata": {},
     "output_type": "execute_result"
    }
   ],
   "source": [
    "# Open a connection to the data base 'apartment_database.db'\n",
    "conn = sqlite3.connect('supermarkets_database.db') \n",
    "\n",
    "# List tables in supermarket_database.db\n",
    "cursor.execute(\"SELECT name FROM sqlite_master WHERE type='table';\")\n",
    "tables = cursor.fetchall()\n",
    "print('Tables in supermarkets_database.db:\\n', tables)\n",
    "\n",
    "# List column names in supermarket_table\n",
    "cursor = conn.execute('SELECT * FROM supermarkets_table')\n",
    "colnames = list(map(lambda x: x[0], cursor.description))\n",
    "print('\\nColnames in supermarkets_table:\\n', colnames)\n",
    "\n",
    "# Query the SQL-table\n",
    "print('\\nSQL query')\n",
    "cursor.execute('''SELECT * FROM supermarkets_table WHERE city = \"Winterthur\"''')\n",
    "df = pd.DataFrame(cursor.fetchall(), \n",
    "                  columns=['id', 'lat', 'lon', 'brand', 'shop', 'city', 'street', 'housenumber', 'postcode'])\n",
    "\n",
    "df.head()"
   ]
  },
  {
   "cell_type": "markdown",
   "id": "e847eb93",
   "metadata": {},
   "source": [
    "### Jupyter notebook --footer info-- (please always provide this at the end of each submitted notebook)"
   ]
  },
  {
   "cell_type": "code",
   "execution_count": 5,
   "id": "8e706987",
   "metadata": {},
   "outputs": [
    {
     "name": "stdout",
     "output_type": "stream",
     "text": [
      "-----------------------------------\n",
      "POSIX\n",
      "Linux | 6.2.0-1012-azure\n",
      "Datetime: 2023-10-05 11:42:09\n",
      "Python Version: 3.10.13\n",
      "-----------------------------------\n"
     ]
    }
   ],
   "source": [
    "import os\n",
    "import platform\n",
    "import socket\n",
    "from platform import python_version\n",
    "from datetime import datetime\n",
    "\n",
    "print('-----------------------------------')\n",
    "print(os.name.upper())\n",
    "print(platform.system(), '|', platform.release())\n",
    "print('Datetime:', datetime.now().strftime(\"%Y-%m-%d %H:%M:%S\"))\n",
    "print('Python Version:', python_version())\n",
    "print('-----------------------------------')"
   ]
  }
 ],
 "metadata": {
  "kernelspec": {
   "display_name": "Python 3 (ipykernel)",
   "language": "python",
   "name": "python3"
  },
  "language_info": {
   "codemirror_mode": {
    "name": "ipython",
    "version": 3
   },
   "file_extension": ".py",
   "mimetype": "text/x-python",
   "name": "python",
   "nbconvert_exporter": "python",
   "pygments_lexer": "ipython3",
   "version": "3.10.13"
  }
 },
 "nbformat": 4,
 "nbformat_minor": 5
}
