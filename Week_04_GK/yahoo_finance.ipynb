{
 "cells": [
  {
   "cell_type": "markdown",
   "metadata": {},
   "source": [
    "# Stock market analysis using data from the Yahoo-Finance Web API"
   ]
  },
  {
   "cell_type": "markdown",
   "metadata": {},
   "source": [
    "## Libraries and settings"
   ]
  },
  {
   "cell_type": "code",
   "execution_count": 111,
   "metadata": {},
   "outputs": [
    {
     "name": "stdout",
     "output_type": "stream",
     "text": [
      "/workspaces/data_analytics/Week_04_GK\n"
     ]
    }
   ],
   "source": [
    "# Libraries\n",
    "import os\n",
    "import pandas as pd\n",
    "import yfinance as yf\n",
    "import seaborn as sns\n",
    "from datetime import datetime\n",
    "import matplotlib.pyplot as plt\n",
    "\n",
    "\n",
    "# Settings\n",
    "import warnings\n",
    "warnings.filterwarnings(\"ignore\")\n",
    "\n",
    "# Current working directory\n",
    "print(os.getcwd())"
   ]
  },
  {
   "cell_type": "markdown",
   "metadata": {},
   "source": [
    "## 1.) Get data for the stock TSLA (Tesla) from Yahoo Finance"
   ]
  },
  {
   "cell_type": "code",
   "execution_count": 112,
   "metadata": {},
   "outputs": [
    {
     "name": "stdout",
     "output_type": "stream",
     "text": [
      "Today is: 2023-10-19\n"
     ]
    },
    {
     "data": {
      "text/html": [
       "<div>\n",
       "<style scoped>\n",
       "    .dataframe tbody tr th:only-of-type {\n",
       "        vertical-align: middle;\n",
       "    }\n",
       "\n",
       "    .dataframe tbody tr th {\n",
       "        vertical-align: top;\n",
       "    }\n",
       "\n",
       "    .dataframe thead th {\n",
       "        text-align: right;\n",
       "    }\n",
       "</style>\n",
       "<table border=\"1\" class=\"dataframe\">\n",
       "  <thead>\n",
       "    <tr style=\"text-align: right;\">\n",
       "      <th></th>\n",
       "      <th>Open</th>\n",
       "      <th>High</th>\n",
       "      <th>Low</th>\n",
       "      <th>Close</th>\n",
       "      <th>Adj Close</th>\n",
       "      <th>Volume</th>\n",
       "    </tr>\n",
       "    <tr>\n",
       "      <th>Date</th>\n",
       "      <th></th>\n",
       "      <th></th>\n",
       "      <th></th>\n",
       "      <th></th>\n",
       "      <th></th>\n",
       "      <th></th>\n",
       "    </tr>\n",
       "  </thead>\n",
       "  <tbody>\n",
       "    <tr>\n",
       "      <th>2022-01-03</th>\n",
       "      <td>382.583344</td>\n",
       "      <td>400.356659</td>\n",
       "      <td>378.679993</td>\n",
       "      <td>399.926666</td>\n",
       "      <td>399.926666</td>\n",
       "      <td>103931400</td>\n",
       "    </tr>\n",
       "    <tr>\n",
       "      <th>2022-01-04</th>\n",
       "      <td>396.516663</td>\n",
       "      <td>402.666656</td>\n",
       "      <td>374.350006</td>\n",
       "      <td>383.196655</td>\n",
       "      <td>383.196655</td>\n",
       "      <td>100248300</td>\n",
       "    </tr>\n",
       "    <tr>\n",
       "      <th>2022-01-05</th>\n",
       "      <td>382.216675</td>\n",
       "      <td>390.113342</td>\n",
       "      <td>360.336670</td>\n",
       "      <td>362.706665</td>\n",
       "      <td>362.706665</td>\n",
       "      <td>80119800</td>\n",
       "    </tr>\n",
       "    <tr>\n",
       "      <th>2022-01-06</th>\n",
       "      <td>359.000000</td>\n",
       "      <td>362.666656</td>\n",
       "      <td>340.166656</td>\n",
       "      <td>354.899994</td>\n",
       "      <td>354.899994</td>\n",
       "      <td>90336600</td>\n",
       "    </tr>\n",
       "    <tr>\n",
       "      <th>2022-01-07</th>\n",
       "      <td>360.123322</td>\n",
       "      <td>360.309998</td>\n",
       "      <td>336.666656</td>\n",
       "      <td>342.320007</td>\n",
       "      <td>342.320007</td>\n",
       "      <td>84164700</td>\n",
       "    </tr>\n",
       "    <tr>\n",
       "      <th>...</th>\n",
       "      <td>...</td>\n",
       "      <td>...</td>\n",
       "      <td>...</td>\n",
       "      <td>...</td>\n",
       "      <td>...</td>\n",
       "      <td>...</td>\n",
       "    </tr>\n",
       "    <tr>\n",
       "      <th>2023-10-12</th>\n",
       "      <td>262.920013</td>\n",
       "      <td>265.410004</td>\n",
       "      <td>256.630005</td>\n",
       "      <td>258.869995</td>\n",
       "      <td>258.869995</td>\n",
       "      <td>111508100</td>\n",
       "    </tr>\n",
       "    <tr>\n",
       "      <th>2023-10-13</th>\n",
       "      <td>258.899994</td>\n",
       "      <td>259.600006</td>\n",
       "      <td>250.220001</td>\n",
       "      <td>251.119995</td>\n",
       "      <td>251.119995</td>\n",
       "      <td>102073800</td>\n",
       "    </tr>\n",
       "    <tr>\n",
       "      <th>2023-10-16</th>\n",
       "      <td>250.050003</td>\n",
       "      <td>255.399994</td>\n",
       "      <td>248.479996</td>\n",
       "      <td>253.919998</td>\n",
       "      <td>253.919998</td>\n",
       "      <td>88917200</td>\n",
       "    </tr>\n",
       "    <tr>\n",
       "      <th>2023-10-17</th>\n",
       "      <td>250.100006</td>\n",
       "      <td>257.179993</td>\n",
       "      <td>247.080002</td>\n",
       "      <td>254.850006</td>\n",
       "      <td>254.850006</td>\n",
       "      <td>93562900</td>\n",
       "    </tr>\n",
       "    <tr>\n",
       "      <th>2023-10-18</th>\n",
       "      <td>252.699997</td>\n",
       "      <td>254.630005</td>\n",
       "      <td>242.080002</td>\n",
       "      <td>242.679993</td>\n",
       "      <td>242.679993</td>\n",
       "      <td>121459300</td>\n",
       "    </tr>\n",
       "  </tbody>\n",
       "</table>\n",
       "<p>451 rows × 6 columns</p>\n",
       "</div>"
      ],
      "text/plain": [
       "                  Open        High         Low       Close   Adj Close  \\\n",
       "Date                                                                     \n",
       "2022-01-03  382.583344  400.356659  378.679993  399.926666  399.926666   \n",
       "2022-01-04  396.516663  402.666656  374.350006  383.196655  383.196655   \n",
       "2022-01-05  382.216675  390.113342  360.336670  362.706665  362.706665   \n",
       "2022-01-06  359.000000  362.666656  340.166656  354.899994  354.899994   \n",
       "2022-01-07  360.123322  360.309998  336.666656  342.320007  342.320007   \n",
       "...                ...         ...         ...         ...         ...   \n",
       "2023-10-12  262.920013  265.410004  256.630005  258.869995  258.869995   \n",
       "2023-10-13  258.899994  259.600006  250.220001  251.119995  251.119995   \n",
       "2023-10-16  250.050003  255.399994  248.479996  253.919998  253.919998   \n",
       "2023-10-17  250.100006  257.179993  247.080002  254.850006  254.850006   \n",
       "2023-10-18  252.699997  254.630005  242.080002  242.679993  242.679993   \n",
       "\n",
       "               Volume  \n",
       "Date                   \n",
       "2022-01-03  103931400  \n",
       "2022-01-04  100248300  \n",
       "2022-01-05   80119800  \n",
       "2022-01-06   90336600  \n",
       "2022-01-07   84164700  \n",
       "...               ...  \n",
       "2023-10-12  111508100  \n",
       "2023-10-13  102073800  \n",
       "2023-10-16   88917200  \n",
       "2023-10-17   93562900  \n",
       "2023-10-18  121459300  \n",
       "\n",
       "[451 rows x 6 columns]"
      ]
     },
     "execution_count": 112,
     "metadata": {},
     "output_type": "execute_result"
    }
   ],
   "source": [
    "# Retrieve the TESLA stock data from Yahoo finance\n",
    "today = datetime.now().strftime(\"%Y-%m-%d\")\n",
    "print('Today is:', today)\n",
    "\n",
    "df = yf.download('TSLA', start = \"2022-01-01\", end = today, progress=False)\n",
    "df"
   ]
  },
  {
   "cell_type": "markdown",
   "metadata": {},
   "source": [
    "## 2.) Apply non-graphical Exploratory Data Analysis (EDA) methods"
   ]
  },
  {
   "cell_type": "markdown",
   "metadata": {},
   "source": [
    "### a) What are the values for min, max. mean and median of the close price?"
   ]
  },
  {
   "cell_type": "code",
   "execution_count": 113,
   "metadata": {},
   "outputs": [
    {
     "data": {
      "text/html": [
       "<div>\n",
       "<style scoped>\n",
       "    .dataframe tbody tr th:only-of-type {\n",
       "        vertical-align: middle;\n",
       "    }\n",
       "\n",
       "    .dataframe tbody tr th {\n",
       "        vertical-align: top;\n",
       "    }\n",
       "\n",
       "    .dataframe thead th {\n",
       "        text-align: right;\n",
       "    }\n",
       "</style>\n",
       "<table border=\"1\" class=\"dataframe\">\n",
       "  <thead>\n",
       "    <tr style=\"text-align: right;\">\n",
       "      <th></th>\n",
       "      <th>Open</th>\n",
       "      <th>High</th>\n",
       "      <th>Low</th>\n",
       "      <th>Close</th>\n",
       "      <th>Adj Close</th>\n",
       "      <th>Volume</th>\n",
       "    </tr>\n",
       "  </thead>\n",
       "  <tbody>\n",
       "    <tr>\n",
       "      <th>count</th>\n",
       "      <td>451.000000</td>\n",
       "      <td>451.000000</td>\n",
       "      <td>451.000000</td>\n",
       "      <td>451.000000</td>\n",
       "      <td>451.000000</td>\n",
       "      <td>4.510000e+02</td>\n",
       "    </tr>\n",
       "    <tr>\n",
       "      <th>mean</th>\n",
       "      <td>241.475506</td>\n",
       "      <td>247.117199</td>\n",
       "      <td>235.328507</td>\n",
       "      <td>241.153843</td>\n",
       "      <td>241.153843</td>\n",
       "      <td>1.109834e+08</td>\n",
       "    </tr>\n",
       "    <tr>\n",
       "      <th>std</th>\n",
       "      <td>58.554127</td>\n",
       "      <td>59.617801</td>\n",
       "      <td>56.956636</td>\n",
       "      <td>58.061141</td>\n",
       "      <td>58.061141</td>\n",
       "      <td>4.290227e+07</td>\n",
       "    </tr>\n",
       "    <tr>\n",
       "      <th>min</th>\n",
       "      <td>103.000000</td>\n",
       "      <td>111.750000</td>\n",
       "      <td>101.809998</td>\n",
       "      <td>108.099998</td>\n",
       "      <td>108.099998</td>\n",
       "      <td>4.186470e+07</td>\n",
       "    </tr>\n",
       "    <tr>\n",
       "      <th>25%</th>\n",
       "      <td>194.419998</td>\n",
       "      <td>198.084999</td>\n",
       "      <td>189.735001</td>\n",
       "      <td>194.669998</td>\n",
       "      <td>194.669998</td>\n",
       "      <td>7.954650e+07</td>\n",
       "    </tr>\n",
       "    <tr>\n",
       "      <th>50%</th>\n",
       "      <td>245.000000</td>\n",
       "      <td>251.800003</td>\n",
       "      <td>240.176666</td>\n",
       "      <td>244.666672</td>\n",
       "      <td>244.666672</td>\n",
       "      <td>1.018542e+08</td>\n",
       "    </tr>\n",
       "    <tr>\n",
       "      <th>75%</th>\n",
       "      <td>282.029999</td>\n",
       "      <td>287.296661</td>\n",
       "      <td>275.081665</td>\n",
       "      <td>281.748337</td>\n",
       "      <td>281.748337</td>\n",
       "      <td>1.344184e+08</td>\n",
       "    </tr>\n",
       "    <tr>\n",
       "      <th>max</th>\n",
       "      <td>396.516663</td>\n",
       "      <td>402.666656</td>\n",
       "      <td>378.679993</td>\n",
       "      <td>399.926666</td>\n",
       "      <td>399.926666</td>\n",
       "      <td>3.065906e+08</td>\n",
       "    </tr>\n",
       "  </tbody>\n",
       "</table>\n",
       "</div>"
      ],
      "text/plain": [
       "             Open        High         Low       Close   Adj Close  \\\n",
       "count  451.000000  451.000000  451.000000  451.000000  451.000000   \n",
       "mean   241.475506  247.117199  235.328507  241.153843  241.153843   \n",
       "std     58.554127   59.617801   56.956636   58.061141   58.061141   \n",
       "min    103.000000  111.750000  101.809998  108.099998  108.099998   \n",
       "25%    194.419998  198.084999  189.735001  194.669998  194.669998   \n",
       "50%    245.000000  251.800003  240.176666  244.666672  244.666672   \n",
       "75%    282.029999  287.296661  275.081665  281.748337  281.748337   \n",
       "max    396.516663  402.666656  378.679993  399.926666  399.926666   \n",
       "\n",
       "             Volume  \n",
       "count  4.510000e+02  \n",
       "mean   1.109834e+08  \n",
       "std    4.290227e+07  \n",
       "min    4.186470e+07  \n",
       "25%    7.954650e+07  \n",
       "50%    1.018542e+08  \n",
       "75%    1.344184e+08  \n",
       "max    3.065906e+08  "
      ]
     },
     "execution_count": 113,
     "metadata": {},
     "output_type": "execute_result"
    }
   ],
   "source": [
    "df.describe()"
   ]
  },
  {
   "cell_type": "markdown",
   "metadata": {},
   "source": [
    "### b) What is the 10% Quantile and 90% quantile of close price?"
   ]
  },
  {
   "cell_type": "code",
   "execution_count": 114,
   "metadata": {},
   "outputs": [
    {
     "data": {
      "text/html": [
       "<div>\n",
       "<style scoped>\n",
       "    .dataframe tbody tr th:only-of-type {\n",
       "        vertical-align: middle;\n",
       "    }\n",
       "\n",
       "    .dataframe tbody tr th {\n",
       "        vertical-align: top;\n",
       "    }\n",
       "\n",
       "    .dataframe thead th {\n",
       "        text-align: right;\n",
       "    }\n",
       "</style>\n",
       "<table border=\"1\" class=\"dataframe\">\n",
       "  <thead>\n",
       "    <tr style=\"text-align: right;\">\n",
       "      <th></th>\n",
       "      <th>Open</th>\n",
       "      <th>High</th>\n",
       "      <th>Low</th>\n",
       "      <th>Close</th>\n",
       "      <th>Adj Close</th>\n",
       "      <th>Volume</th>\n",
       "    </tr>\n",
       "  </thead>\n",
       "  <tbody>\n",
       "    <tr>\n",
       "      <th>0.1</th>\n",
       "      <td>167.66</td>\n",
       "      <td>173.57</td>\n",
       "      <td>164.35</td>\n",
       "      <td>167.87</td>\n",
       "      <td>167.87</td>\n",
       "      <td>62688800.0</td>\n",
       "    </tr>\n",
       "    <tr>\n",
       "      <th>0.9</th>\n",
       "      <td>310.00</td>\n",
       "      <td>314.67</td>\n",
       "      <td>301.67</td>\n",
       "      <td>309.07</td>\n",
       "      <td>309.07</td>\n",
       "      <td>170291900.0</td>\n",
       "    </tr>\n",
       "  </tbody>\n",
       "</table>\n",
       "</div>"
      ],
      "text/plain": [
       "       Open    High     Low   Close  Adj Close       Volume\n",
       "0.1  167.66  173.57  164.35  167.87     167.87   62688800.0\n",
       "0.9  310.00  314.67  301.67  309.07     309.07  170291900.0"
      ]
     },
     "execution_count": 114,
     "metadata": {},
     "output_type": "execute_result"
    }
   ],
   "source": [
    "df.quantile(q=[0.1, 0.9]).round(2)"
   ]
  },
  {
   "cell_type": "markdown",
   "metadata": {},
   "source": [
    "## 3.) Apply graphical Exploratory Data Analysis (EDA) methods"
   ]
  },
  {
   "cell_type": "markdown",
   "metadata": {},
   "source": [
    "### a) Plot a line chart of the close price"
   ]
  },
  {
   "cell_type": "code",
   "execution_count": 115,
   "metadata": {},
   "outputs": [
    {
     "data": {
      "image/png": "[encoded data removed]",
      "text/plain": [
       "<Figure size 800x500 with 1 Axes>"
      ]
     },
     "metadata": {},
     "output_type": "display_data"
    }
   ],
   "source": [
    "plt.figure (figsize=(8,5))\n",
    "\n",
    "plt.title(\"Line Chart\")\n",
    "plt.xlabel(\"Date\")\n",
    "plt.ylabel(\"Price\")\n",
    "plt.colormaps()\n",
    "\n",
    "plt.plot(df.Close, lw=2, label='Close price (USD)', color='green')\n",
    "\n",
    "plt.legend()\n",
    "\n",
    "plt.grid()\n",
    "\n",
    "plt.show()\n",
    "\n"
   ]
  },
  {
   "cell_type": "markdown",
   "metadata": {},
   "source": [
    "### b) Plot a histogram of the close price"
   ]
  },
  {
   "cell_type": "code",
   "execution_count": 116,
   "metadata": {},
   "outputs": [
    {
     "data": {
      "image/png": "[encoded data removed]",
      "text/plain": [
       "<Figure size 700x400 with 1 Axes>"
      ]
     },
     "metadata": {},
     "output_type": "display_data"
    }
   ],
   "source": [
    "fig = plt.figure( figsize=(7,4))\n",
    "\n",
    "n, bins, patches = plt.hist(x=df['Close'], \n",
    "                            bins=25, \n",
    "                            color='magenta',\n",
    "                            alpha=0.5, \n",
    "                            rwidth=0.95\n",
    "                   )\n",
    "\n",
    "plt.title(\"Close price in USD\")\n",
    "plt.xlabel(\"Date\")\n",
    "plt.ylabel(\"Price in USD\")\n",
    "\n",
    "plt.show()"
   ]
  },
  {
   "cell_type": "markdown",
   "metadata": {},
   "source": [
    "### c) Plot a boxplot of the close price"
   ]
  },
  {
   "cell_type": "code",
   "execution_count": null,
   "metadata": {},
   "outputs": [],
   "source": []
  },
  {
   "attachments": {},
   "cell_type": "markdown",
   "metadata": {},
   "source": [
    "### Jupyter notebook --footer info-- (please always provide this at the end of each notebook)"
   ]
  },
  {
   "cell_type": "code",
   "execution_count": 117,
   "metadata": {},
   "outputs": [
    {
     "name": "stdout",
     "output_type": "stream",
     "text": [
      "-----------------------------------\n",
      "POSIX\n",
      "Linux | 6.2.0-1014-azure\n",
      "Datetime: 2023-10-19 10:09:23\n",
      "Python Version: 3.10.13\n",
      "-----------------------------------\n"
     ]
    }
   ],
   "source": [
    "import os\n",
    "import platform\n",
    "import socket\n",
    "from platform import python_version\n",
    "from datetime import datetime\n",
    "\n",
    "print('-----------------------------------')\n",
    "print(os.name.upper())\n",
    "print(platform.system(), '|', platform.release())\n",
    "print('Datetime:', datetime.now().strftime(\"%Y-%m-%d %H:%M:%S\"))\n",
    "print('Python Version:', python_version())\n",
    "print('-----------------------------------')"
   ]
  }
 ],
 "metadata": {
  "kernelspec": {
   "display_name": "adsenv",
   "language": "python",
   "name": "python3"
  },
  "language_info": {
   "codemirror_mode": {
    "name": "ipython",
    "version": 3
   },
   "file_extension": ".py",
   "mimetype": "text/x-python",
   "name": "python",
   "nbconvert_exporter": "python",
   "pygments_lexer": "ipython3",
   "version": "3.10.13"
  },
  "vscode": {
   "interpreter": {
    "hash": "18632da57c1a416bf8be4aa27ba4ca7c1f66541805f18b0825a162dab4e44f29"
   }
  }
 },
 "nbformat": 4,
 "nbformat_minor": 2
}
